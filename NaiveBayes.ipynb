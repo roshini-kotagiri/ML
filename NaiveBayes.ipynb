{
  "nbformat": 4,
  "nbformat_minor": 0,
  "metadata": {
    "colab": {
      "provenance": []
    },
    "kernelspec": {
      "name": "python3",
      "display_name": "Python 3"
    },
    "language_info": {
      "name": "python"
    }
  },
  "cells": [
    {
      "cell_type": "code",
      "execution_count": 1,
      "metadata": {
        "id": "Oj92c1qHdgMA"
      },
      "outputs": [],
      "source": [
        "import pandas as pd"
      ]
    },
    {
      "cell_type": "code",
      "source": [
        "data_Set = pd.read_csv(open(\"student.csv\"))"
      ],
      "metadata": {
        "id": "noAFQioFdpGx"
      },
      "execution_count": 4,
      "outputs": []
    },
    {
      "cell_type": "code",
      "source": [
        "def split_data():\n",
        "    data_Set = pd.read_csv(open(\"student.csv\"))\n",
        "\n",
        "    train_Size = 300\n",
        "    test_Size  = 649 - train_Size\n",
        "\n",
        "    train_Data = data_Set.iloc[0:train_Size]\n",
        "    test_Data  = data_Set.iloc[train_Size:]"
      ],
      "metadata": {
        "id": "M5vhzYVNd65p"
      },
      "execution_count": 10,
      "outputs": []
    },
    {
      "cell_type": "code",
      "source": [
        "def train():\n",
        "    data_Set = pd.read_csv(open(\"student.csv\"))\n",
        "\n",
        "    train_Size = 300\n",
        "    test_Size  = 649 - train_Size\n",
        "\n",
        "    train_Data = data_Set.iloc[0:train_Size]               
        "    test_Data  = data_Set.iloc[train_Size:]                 
        "\n",
        "    dic_Att = {}                                            
        "    attributes = train_Data.columns                         
        "\n",
        "    for x in attributes:\n",
        "        attributes_Count = train_Data.groupby('Grade')[x].value_counts()  
        "        dic_Att[x] = train_Data.groupby('Grade')[x].value_counts()        
        "\n",
        "    return dic_Att"
      ],
      "metadata": {
        "id": "miyoiFkGeHR-"
      },
      "execution_count": 11,
      "outputs": []
    },
    {
      "cell_type": "code",
      "source": [
        "def predict():\n",
        "    data_Set = pd.read_csv(open(\"student.csv\"))\n",
        "    data = open(\"student.csv\").read()\n",
        "    datalines = data.split('\\n')\n",
        "    datafields = []\n",
        "\n",
        "    for line in datalines:\n",
        "        datafields.append(line.split(\",\"))\n",
        "\n",
        "    train_Size = 300\n",
        "    test_Size  = 649 - train_Size\n",
        "\n",
        "    train_Data = data_Set.iloc[0:train_Size]\n",
        "    test_Data  = data_Set.iloc[train_Size:]\n",
        "\n",
        "    data_Grade = data_Set[\"Grade\"]                          
        "    grade_Count = data_Grade.value_counts()                 
        "\n",
        "    attributes = train_Data.columns[0:29]                  
        "    attributes_1 = train_Data.columns[0:22]                 
        "    attributes_2 = train_Data.columns[22:28]\n",
        "    attributes_3 = train_Data.columns[28:29]\n",
        "    dic_Att = {}\n",
        "    pred_List = []\n",
        "    init = 0\n",
        "\n",
        "    for x in attributes:                                                   
        "        attributes_Count = data_Set.groupby('Grade')[x].value_counts()      
        "        dic_Att[x] = data_Set.groupby('Grade')[x].value_counts()            
        "\n",
        "    dic_Grade_Count = {'A': 0 , 'A+': 0, 'B': 0, 'C': 0, 'D': 0, 'F': 0}\n",
        "    grade = ['A', 'A+', 'B', 'C', 'D', 'F']\n",
        "    for a in grade:                                                        
        "        dic_Grade_Count[a] = grade_Count[a]                                 
        "\n",
        "    pred_Dic = {'A': 0 , 'A+': 0, 'B': 0, 'C': 0, 'D': 0, 'F': 0}\n",
        "    grade = ['A', 'A+', 'B', 'C', 'D', 'F']\n",
        "    pred_Arr = []\n",
        "\n",
        "    for w in range(1, 650):                                            
        "        for y in grade:                                               
        "            init = 0\n",
        "            sum = 1\n",
        "            for x in attributes_1:                                     
        "                if datafields[w][init] not in dic_Att[x][y].keys():\n",
        "                    sum = sum * 0.0001                              
        "                else:\n",
        "                    sum = sum * dic_Att[x][y][datafields[w][init]] / dic_Grade_Count[y]\n",
        "                init = init + 1\n",
        "            for x in attributes_2:                                     
        "                if int(datafields[w][init]) not in dic_Att[x][y].keys():\n",
        "                    sum = sum * 0.0001\n",
        "                else:\n",
        "                    sum = sum * dic_Att[x][y][int(datafields[w][init])] / dic_Grade_Count[y]\n",
        "                init = init + 1\n",
        "            for x in attributes_3:\n",
        "                if datafields[w][init] not in dic_Att[x][y].keys():\n",
        "                    sum = sum * 0.0001\n",
        "                else:\n",
        "                    sum = sum * dic_Att[x][y][datafields[w][init]] / dic_Grade_Count[y]\n",
        "                init = init + 1\n",
        "            pred_Dic[y] = sum * dic_Grade_Count[y] / len(data_Set)       
        "            Max = 'A'\n",
        "        for i in grade:                                                 
        "            if pred_Dic[i] > pred_Dic['A']:\n",
        "                Max = i\n",
        "        pred_Arr.append(Max)                                             
        "    return pred_Arr"
      ],
      "metadata": {
        "id": "At_TWXF4ePx2"
      },
      "execution_count": 12,
      "outputs": []
    },
    {
      "cell_type": "code",
      "source": [
        "def evaluate():\n",
        "    data_Set = pd.read_csv(open(\"student.csv\"))\n",
        "\n",
        "    train_Size = 300\n",
        "    test_Size  = 649 - train_Size\n",
        "    pred_Arr = predict()\n",
        "\n",
        "    correct = 0\n",
        "    wrong   = 0\n",
        "    accuracy = 0\n",
        "\n",
        "    for i in range(train_Size, 649):\n",
        "        if pred_Arr[i] == data_Set['Grade'][i]:\n",
        "            correct = correct + 1\n",
        "        else:\n",
        "            wrong = wrong + 1\n",
        "\n",
        "    accuracy = correct / (correct + wrong)\n",
        "\n",
        "    return accuracy"
      ],
      "metadata": {
        "id": "e4ZwATQ9ebwz"
      },
      "execution_count": 13,
      "outputs": []
    },
    {
      "cell_type": "code",
      "source": [
        "\n",
        "print(\"Accuraccy:\", evaluate())"
      ],
      "metadata": {
        "colab": {
          "base_uri": "https://localhost:8080/"
        },
        "id": "0nNpHDqCeeum",
        "outputId": "dd6a89ca-6b54-4de2-f59b-bc45427a2601"
      },
      "execution_count": 14,
      "outputs": [
        {
          "output_type": "stream",
          "name": "stdout",
          "text": [
            "Accuraccy: 0.332378223495702\n"
          ]
        }
      ]
    },
    {
      "cell_type": "code",
      "source": [],
      "metadata": {
        "id": "xUEBn0lPeiDO"
      },
      "execution_count": null,
      "outputs": []
    }
  ]
}
